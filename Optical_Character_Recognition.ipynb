{
  "nbformat": 4,
  "nbformat_minor": 0,
  "metadata": {
    "colab": {
      "provenance": []
    },
    "kernelspec": {
      "name": "python3",
      "display_name": "Python 3"
    },
    "language_info": {
      "name": "python"
    }
  },
  "cells": [
    {
      "cell_type": "markdown",
      "source": [
        "# Handwritten Digit Recognition_MNIST_PyTorch by [Mominul Haque](https://github.com/mominulhq)"
      ],
      "metadata": {
        "id": "rtk7o4sLqInd"
      }
    },
    {
      "cell_type": "markdown",
      "source": [
        "Importing required library"
      ],
      "metadata": {
        "id": "bBaIR2dvqGll"
      }
    },
    {
      "cell_type": "code",
      "source": [
        "import random\n",
        "import pandas as pd\n",
        "import numpy as np\n",
        "import matplotlib.pyplot as plt\n",
        "from sklearn.model_selection import train_test_split\n",
        "import torch\n",
        "import torch.nn as nn\n",
        "import torch.nn.functional as F\n",
        "from torch.autograd import Variable\n",
        "from torch.optim import lr_scheduler\n",
        "import warnings\n",
        "\n",
        "\n",
        "warnings.filterwarnings('ignore')\n",
        "\n",
        "np.random.seed(42)\n"
      ],
      "metadata": {
        "id": "JNlFVpOfgrp7"
      },
      "execution_count": 19,
      "outputs": []
    },
    {
      "cell_type": "markdown",
      "source": [
        "initialize the dataset path"
      ],
      "metadata": {
        "id": "EdVGjQU1q5IL"
      }
    },
    {
      "cell_type": "code",
      "source": [
        "train = pd.read_csv('/content/drive/Shareddrives/Research/Mominul/MNIST/MNIST_train.csv', dtype=np.float32)\n",
        "test = pd.read_csv('/content/drive/Shareddrives/Research/Mominul/MNIST/MNIST_test.csv', dtype=np.float32)"
      ],
      "metadata": {
        "id": "Lslg-hx2gu8i"
      },
      "execution_count": 20,
      "outputs": []
    },
    {
      "cell_type": "markdown",
      "source": [
        "Preprocess those image of dataset"
      ],
      "metadata": {
        "id": "S6xwF8N7rCmy"
      }
    },
    {
      "cell_type": "code",
      "source": [
        "def preprocessing(train, test, split_train_size=0.2):\n",
        "    # Split data into features(pixels) and labels(numbers from 0 to 9)\n",
        "    targets = train.label.values\n",
        "    features = train.drop([\"label\"], axis=1).values\n",
        "    # Normalization\n",
        "    features = features / 255.\n",
        "    X_test = test.values / 255.\n",
        "\n",
        "    X_train, X_val, y_train, y_val = train_test_split(features,\n",
        "                                                      targets,\n",
        "                                                      test_size=split_train_size,\n",
        "                                                      random_state=42)\n",
        "    X_train = torch.from_numpy(X_train)\n",
        "    y_train = torch.from_numpy(y_train).type(torch.LongTensor)  # data type is long\n",
        "\n",
        "    # Create feature and targets tensor for test set.\n",
        "    X_val = torch.from_numpy(X_val)\n",
        "    y_val = torch.from_numpy(y_val).type(torch.LongTensor)  # data type is long\n",
        "\n",
        "    # Create feature tensor for train set.\n",
        "    X_test = torch.from_numpy(X_test)\n",
        "\n",
        "    return X_train, y_train, X_val, y_val, X_test\n",
        "\n",
        "\n",
        "X_train, y_train, X_val, y_val, X_test = preprocessing(train, test)\n",
        "\n",
        "print(f'Shape of training data: {X_train.shape}')\n",
        "print(f'Shape training labels: {y_train.shape}')\n",
        "print(f'Shape of validation data: {X_val.shape}')\n",
        "print(f'Shape of valiation labels: {y_val.shape}')\n",
        "print(f'Shape of testing data: {X_test.shape}')"
      ],
      "metadata": {
        "id": "eblBG69MrNrU",
        "colab": {
          "base_uri": "https://localhost:8080/"
        },
        "outputId": "0de2c296-b579-48a0-cd93-1a779cbe0c50"
      },
      "execution_count": 21,
      "outputs": [
        {
          "output_type": "stream",
          "name": "stdout",
          "text": [
            "Shape of training data: torch.Size([33600, 784])\n",
            "Shape training labels: torch.Size([33600])\n",
            "Shape of validation data: torch.Size([8400, 784])\n",
            "Shape of valiation labels: torch.Size([8400])\n",
            "Shape of testing data: torch.Size([28000, 784])\n"
          ]
        }
      ]
    },
    {
      "cell_type": "markdown",
      "source": [
        "Hyparameter"
      ],
      "metadata": {
        "id": "GkGVDjNYrbcz"
      }
    },
    {
      "cell_type": "code",
      "source": [
        "# batch_size, epoch and iteration\n",
        "BATCH_SIZE = 100\n",
        "N_ITER = 2500\n",
        "EPOCHS = 15"
      ],
      "metadata": {
        "id": "L1LdT7pKramy"
      },
      "execution_count": 22,
      "outputs": []
    },
    {
      "cell_type": "markdown",
      "source": [
        "Dataloader for Train & Test Set"
      ],
      "metadata": {
        "id": "ChxYpu5mrv-H"
      }
    },
    {
      "cell_type": "code",
      "source": [
        "# Pytorch train and test sets\n",
        "train_tensor = torch.utils.data.TensorDataset(X_train, y_train)\n",
        "val_tensor = torch.utils.data.TensorDataset(X_val, y_val)\n",
        "test_tensor = torch.utils.data.TensorDataset(X_test)\n",
        "\n",
        "# data loader\n",
        "train_loader = torch.utils.data.DataLoader(train_tensor,\n",
        "                                           batch_size=BATCH_SIZE,\n",
        "                                           shuffle=True)\n",
        "val_loader = torch.utils.data.DataLoader(val_tensor,\n",
        "                                         batch_size=BATCH_SIZE,\n",
        "                                         shuffle=False)\n",
        "test_loader = torch.utils.data.DataLoader(test_tensor,\n",
        "                                          batch_size=BATCH_SIZE,\n",
        "                                          shuffle=False)"
      ],
      "metadata": {
        "id": "ZP8_h-FPrvAC"
      },
      "execution_count": 23,
      "outputs": []
    },
    {
      "cell_type": "code",
      "source": [
        "def display_images(graph_indexes=np.arange(9)):\n",
        "    plt.figure(figsize=(12, 12))\n",
        "    for graph_index in graph_indexes:\n",
        "        # Draw randomly an index\n",
        "        index = random.randint(1, X_train.shape[0])\n",
        "\n",
        "        # Get corresponding label (.numpy to get value of a tensor)\n",
        "        label = y_train[index].numpy()\n",
        "\n",
        "        # define subplot\n",
        "        plt.subplot(330 + 1 + graph_index)\n",
        "        plt.title('Label: %s \\n' % label,\n",
        "                  fontsize=18)\n",
        "        # plot raw pixel data (1d tensor that needs to be resized)\n",
        "        plt.imshow(X_train[index].resize(28, 28), cmap=plt.get_cmap('gray'))\n",
        "\n",
        "    # the bottom of the subplots of the figure\n",
        "    plt.subplots_adjust(bottom=0.001)\n",
        "    plt.subplots_adjust(top=0.99)\n",
        "\n",
        "\n",
        "plt.show()\n",
        "display_images()\n"
      ],
      "metadata": {
        "colab": {
          "base_uri": "https://localhost:8080/",
          "height": 889
        },
        "id": "macQfLUI6HTv",
        "outputId": "7741a156-7cff-4afa-8e54-16492af5a7a5"
      },
      "execution_count": 24,
      "outputs": [
        {
          "output_type": "display_data",
          "data": {
            "text/plain": [
              "<Figure size 864x864 with 9 Axes>"
            ],
            "image/png": "[encoded data removed]"
          },
          "metadata": {
            "needs_background": "light"
          }
        }
      ]
    },
    {
      "cell_type": "code",
      "source": [
        "class CNNModel(nn.Module):\n",
        "    def __init__(self):\n",
        "        super(CNNModel, self).__init__()\n",
        "\n",
        "        # convolution 1\n",
        "        self.c1 = nn.Conv2d(in_channels=1, out_channels=16, kernel_size=(5, 5), stride=[1], padding=0)\n",
        "        self.relu1 = nn.ReLU()\n",
        "\n",
        "        # maxpool 1\n",
        "        self.maxpool1 = nn.MaxPool2d(kernel_size=(2, 2))\n",
        "\n",
        "        # dropout 1\n",
        "        self.dropout1 = nn.Dropout(0.25)\n",
        "\n",
        "        # convolution 2\n",
        "        self.c2 = nn.Conv2d(in_channels=16, out_channels=32, kernel_size=(3, 3), stride=[1], padding=0)\n",
        "        self.relu2 = nn.ReLU()\n",
        "\n",
        "        # maxpool 2\n",
        "        self.maxpool2 = nn.MaxPool2d(kernel_size=(2, 2))\n",
        "\n",
        "        # dropout 2\n",
        "        self.dropout2 = nn.Dropout(0.25)\n",
        "\n",
        "        # linear 1\n",
        "        self.fc1 = nn.Linear(32 * 5 * 5, 256)\n",
        "\n",
        "        # dropout 3\n",
        "        self.dropout3 = nn.Dropout(0.25)\n",
        "\n",
        "        # linear 2\n",
        "        self.fc2 = nn.Linear(256, 10)\n",
        "\n",
        "    def forward(self, x):\n",
        "        out = self.c1(x)  # [BATCH_SIZE, 16, 24, 24]\n",
        "        out = self.relu1(out)\n",
        "        out = self.maxpool1(out)  # [BATCH_SIZE, 16, 12, 12]\n",
        "        out = self.dropout1(out)\n",
        "\n",
        "        out = self.c2(out)  # [BATCH_SIZE, 32, 10, 10]\n",
        "        out = self.relu2(out)\n",
        "        out = self.maxpool2(out)  # [BATCH_SIZE, 32, 5, 5]\n",
        "        out = self.dropout2(out)\n",
        "\n",
        "        out = out.view(out.size(0), -1)  # [BATCH_SIZE, 32*5*5=800]\n",
        "        out = self.fc1(out)  # [BATCH_SIZE, 256]\n",
        "        out = self.dropout3(out)\n",
        "        out = self.fc2(out)  # [BATCH_SIZE, 10]\n",
        "\n",
        "        return out\n",
        "\n",
        "# Create CNN\n",
        "model = CNNModel()\n"
      ],
      "metadata": {
        "id": "iHbscBxN6LFl"
      },
      "execution_count": 25,
      "outputs": []
    },
    {
      "cell_type": "code",
      "source": [
        "# Optimizer\n",
        "optimizer = torch.optim.Adam(model.parameters(), lr=0.003)\n",
        "\n",
        "# Cross Entropy Loss\n",
        "criterion = nn.CrossEntropyLoss()\n",
        "\n",
        "# LR scheduler\n",
        "exp_lr_scheduler = lr_scheduler.StepLR(optimizer, step_size=3, gamma=0.5)\n",
        "\n",
        "# On GPU if possible\n",
        "if torch.cuda.is_available():\n",
        "    print(\"Model will be training on GPU\")\n",
        "    model = model.cuda()\n",
        "    criterion = criterion.cuda()\n",
        "else:\n",
        "    print(\"Model will be training on CPU\")"
      ],
      "metadata": {
        "colab": {
          "base_uri": "https://localhost:8080/"
        },
        "id": "0-LfSKq-6UA3",
        "outputId": "5e3d6c42-0d3a-48e4-ac15-ada76659b9b7"
      },
      "execution_count": 26,
      "outputs": [
        {
          "output_type": "stream",
          "name": "stdout",
          "text": [
            "Model will be training on CPU\n"
          ]
        }
      ]
    },
    {
      "cell_type": "code",
      "execution_count": 27,
      "metadata": {
        "id": "9j0caOvcgGYN",
        "colab": {
          "base_uri": "https://localhost:8080/",
          "height": 1000
        },
        "outputId": "12544211-64ef-4223-f7ad-1a688f1847d7"
      },
      "outputs": [
        {
          "output_type": "stream",
          "name": "stdout",
          "text": [
            "Epoch 1 of 15\n",
            "\n",
            "Training...\n",
            "Train Epoch: 1 [5000/33600 (15%)]\tLoss: 0.227376\n",
            "Train Epoch: 1 [10000/33600 (30%)]\tLoss: 0.162559\n",
            "Train Epoch: 1 [15000/33600 (45%)]\tLoss: 0.100108\n",
            "Train Epoch: 1 [20000/33600 (60%)]\tLoss: 0.232231\n",
            "Train Epoch: 1 [25000/33600 (74%)]\tLoss: 0.109478\n",
            "Train Epoch: 1 [30000/33600 (89%)]\tLoss: 0.070538\n",
            "Validating...\n",
            "Train Loss: 0.0025, Train Acc: 92.23\n",
            "Val Loss: 0.0007, Val Acc: 97.79\n",
            "\n",
            "Epoch 2 of 15\n",
            "\n",
            "Training...\n",
            "Train Epoch: 2 [5000/33600 (15%)]\tLoss: 0.073994\n",
            "Train Epoch: 2 [10000/33600 (30%)]\tLoss: 0.084790\n",
            "Train Epoch: 2 [15000/33600 (45%)]\tLoss: 0.058691\n",
            "Train Epoch: 2 [20000/33600 (60%)]\tLoss: 0.059508\n",
            "Train Epoch: 2 [25000/33600 (74%)]\tLoss: 0.096723\n",
            "Train Epoch: 2 [30000/33600 (89%)]\tLoss: 0.074062\n",
            "Validating...\n",
            "Train Loss: 0.0010, Train Acc: 96.93\n",
            "Val Loss: 0.0007, Val Acc: 97.79\n",
            "\n",
            "Epoch 3 of 15\n",
            "\n",
            "Training...\n",
            "Train Epoch: 3 [5000/33600 (15%)]\tLoss: 0.071631\n",
            "Train Epoch: 3 [10000/33600 (30%)]\tLoss: 0.042385\n",
            "Train Epoch: 3 [15000/33600 (45%)]\tLoss: 0.065438\n",
            "Train Epoch: 3 [20000/33600 (60%)]\tLoss: 0.081446\n",
            "Train Epoch: 3 [25000/33600 (74%)]\tLoss: 0.052307\n",
            "Train Epoch: 3 [30000/33600 (89%)]\tLoss: 0.018074\n",
            "Validating...\n",
            "Train Loss: 0.0007, Train Acc: 97.84\n",
            "Val Loss: 0.0004, Val Acc: 98.56\n",
            "\n",
            "Epoch 4 of 15\n",
            "\n",
            "Training...\n",
            "Train Epoch: 4 [5000/33600 (15%)]\tLoss: 0.061071\n",
            "Train Epoch: 4 [10000/33600 (30%)]\tLoss: 0.023084\n",
            "Train Epoch: 4 [15000/33600 (45%)]\tLoss: 0.047546\n",
            "Train Epoch: 4 [20000/33600 (60%)]\tLoss: 0.072992\n",
            "Train Epoch: 4 [25000/33600 (74%)]\tLoss: 0.065217\n",
            "Train Epoch: 4 [30000/33600 (89%)]\tLoss: 0.016969\n",
            "Validating...\n",
            "Train Loss: 0.0006, Train Acc: 98.05\n",
            "Val Loss: 0.0005, Val Acc: 98.44\n",
            "\n",
            "Epoch 5 of 15\n",
            "\n",
            "Training...\n",
            "Train Epoch: 5 [5000/33600 (15%)]\tLoss: 0.019482\n",
            "Train Epoch: 5 [10000/33600 (30%)]\tLoss: 0.020154\n",
            "Train Epoch: 5 [15000/33600 (45%)]\tLoss: 0.028842\n",
            "Train Epoch: 5 [20000/33600 (60%)]\tLoss: 0.032178\n",
            "Train Epoch: 5 [25000/33600 (74%)]\tLoss: 0.115616\n",
            "Train Epoch: 5 [30000/33600 (89%)]\tLoss: 0.028329\n",
            "Validating...\n",
            "Train Loss: 0.0006, Train Acc: 98.17\n",
            "Val Loss: 0.0004, Val Acc: 98.82\n",
            "\n",
            "Epoch 6 of 15\n",
            "\n",
            "Training...\n",
            "Train Epoch: 6 [5000/33600 (15%)]\tLoss: 0.030311\n",
            "Train Epoch: 6 [10000/33600 (30%)]\tLoss: 0.070344\n",
            "Train Epoch: 6 [15000/33600 (45%)]\tLoss: 0.015538\n",
            "Train Epoch: 6 [20000/33600 (60%)]\tLoss: 0.005708\n",
            "Train Epoch: 6 [25000/33600 (74%)]\tLoss: 0.065101\n",
            "Train Epoch: 6 [30000/33600 (89%)]\tLoss: 0.013741\n",
            "Validating...\n",
            "Train Loss: 0.0004, Train Acc: 98.54\n",
            "Val Loss: 0.0003, Val Acc: 98.86\n",
            "\n",
            "Epoch 7 of 15\n",
            "\n",
            "Training...\n",
            "Train Epoch: 7 [5000/33600 (15%)]\tLoss: 0.008881\n",
            "Train Epoch: 7 [10000/33600 (30%)]\tLoss: 0.054729\n",
            "Train Epoch: 7 [15000/33600 (45%)]\tLoss: 0.059807\n",
            "Train Epoch: 7 [20000/33600 (60%)]\tLoss: 0.039434\n",
            "Train Epoch: 7 [25000/33600 (74%)]\tLoss: 0.017532\n",
            "Train Epoch: 7 [30000/33600 (89%)]\tLoss: 0.048635\n",
            "Validating...\n",
            "Train Loss: 0.0004, Train Acc: 98.65\n",
            "Val Loss: 0.0003, Val Acc: 98.83\n",
            "\n",
            "Epoch 8 of 15\n",
            "\n",
            "Training...\n",
            "Train Epoch: 8 [5000/33600 (15%)]\tLoss: 0.046860\n",
            "Train Epoch: 8 [10000/33600 (30%)]\tLoss: 0.054203\n",
            "Train Epoch: 8 [15000/33600 (45%)]\tLoss: 0.094905\n",
            "Train Epoch: 8 [20000/33600 (60%)]\tLoss: 0.058796\n",
            "Train Epoch: 8 [25000/33600 (74%)]\tLoss: 0.013425\n",
            "Train Epoch: 8 [30000/33600 (89%)]\tLoss: 0.018404\n",
            "Validating...\n",
            "Train Loss: 0.0004, Train Acc: 98.66\n",
            "Val Loss: 0.0003, Val Acc: 98.88\n",
            "\n",
            "Epoch 9 of 15\n",
            "\n",
            "Training...\n",
            "Train Epoch: 9 [5000/33600 (15%)]\tLoss: 0.072957\n",
            "Train Epoch: 9 [10000/33600 (30%)]\tLoss: 0.059789\n",
            "Train Epoch: 9 [15000/33600 (45%)]\tLoss: 0.010616\n",
            "Train Epoch: 9 [20000/33600 (60%)]\tLoss: 0.050841\n",
            "Train Epoch: 9 [25000/33600 (74%)]\tLoss: 0.044388\n",
            "Train Epoch: 9 [30000/33600 (89%)]\tLoss: 0.057706\n",
            "Validating...\n",
            "Train Loss: 0.0004, Train Acc: 98.74\n",
            "Val Loss: 0.0003, Val Acc: 99.06\n",
            "\n",
            "Epoch 10 of 15\n",
            "\n",
            "Training...\n",
            "Train Epoch: 10 [5000/33600 (15%)]\tLoss: 0.006127\n",
            "Train Epoch: 10 [10000/33600 (30%)]\tLoss: 0.016758\n",
            "Train Epoch: 10 [15000/33600 (45%)]\tLoss: 0.022480\n",
            "Train Epoch: 10 [20000/33600 (60%)]\tLoss: 0.006048\n",
            "Train Epoch: 10 [25000/33600 (74%)]\tLoss: 0.024725\n",
            "Train Epoch: 10 [30000/33600 (89%)]\tLoss: 0.040090\n",
            "Validating...\n",
            "Train Loss: 0.0004, Train Acc: 98.75\n",
            "Val Loss: 0.0003, Val Acc: 99.02\n",
            "\n",
            "Epoch 11 of 15\n",
            "\n",
            "Training...\n",
            "Train Epoch: 11 [5000/33600 (15%)]\tLoss: 0.062844\n",
            "Train Epoch: 11 [10000/33600 (30%)]\tLoss: 0.016174\n",
            "Train Epoch: 11 [15000/33600 (45%)]\tLoss: 0.023979\n",
            "Train Epoch: 11 [20000/33600 (60%)]\tLoss: 0.093841\n",
            "Train Epoch: 11 [25000/33600 (74%)]\tLoss: 0.009291\n",
            "Train Epoch: 11 [30000/33600 (89%)]\tLoss: 0.012660\n",
            "Validating...\n",
            "Train Loss: 0.0004, Train Acc: 98.82\n",
            "Val Loss: 0.0003, Val Acc: 99.04\n",
            "\n",
            "Epoch 12 of 15\n",
            "\n",
            "Training...\n",
            "Train Epoch: 12 [5000/33600 (15%)]\tLoss: 0.031300\n",
            "Train Epoch: 12 [10000/33600 (30%)]\tLoss: 0.001459\n",
            "Train Epoch: 12 [15000/33600 (45%)]\tLoss: 0.012093\n",
            "Train Epoch: 12 [20000/33600 (60%)]\tLoss: 0.041844\n",
            "Train Epoch: 12 [25000/33600 (74%)]\tLoss: 0.022711\n",
            "Train Epoch: 12 [30000/33600 (89%)]\tLoss: 0.006053\n",
            "Validating...\n",
            "Train Loss: 0.0003, Train Acc: 98.88\n",
            "Val Loss: 0.0003, Val Acc: 99.06\n",
            "\n",
            "Epoch 13 of 15\n",
            "\n",
            "Training...\n",
            "Train Epoch: 13 [5000/33600 (15%)]\tLoss: 0.009362\n",
            "Train Epoch: 13 [10000/33600 (30%)]\tLoss: 0.040487\n",
            "Train Epoch: 13 [15000/33600 (45%)]\tLoss: 0.006534\n",
            "Train Epoch: 13 [20000/33600 (60%)]\tLoss: 0.019537\n",
            "Train Epoch: 13 [25000/33600 (74%)]\tLoss: 0.040814\n",
            "Train Epoch: 13 [30000/33600 (89%)]\tLoss: 0.011823\n",
            "Validating...\n",
            "Train Loss: 0.0003, Train Acc: 98.96\n",
            "Val Loss: 0.0003, Val Acc: 99.04\n",
            "\n",
            "Epoch 14 of 15\n",
            "\n",
            "Training...\n",
            "Train Epoch: 14 [5000/33600 (15%)]\tLoss: 0.010934\n",
            "Train Epoch: 14 [10000/33600 (30%)]\tLoss: 0.014381\n",
            "Train Epoch: 14 [15000/33600 (45%)]\tLoss: 0.088506\n",
            "Train Epoch: 14 [20000/33600 (60%)]\tLoss: 0.090705\n",
            "Train Epoch: 14 [25000/33600 (74%)]\tLoss: 0.032103\n",
            "Train Epoch: 14 [30000/33600 (89%)]\tLoss: 0.017060\n",
            "Validating...\n",
            "Train Loss: 0.0003, Train Acc: 98.93\n",
            "Val Loss: 0.0003, Val Acc: 98.99\n",
            "\n",
            "Epoch 15 of 15\n",
            "\n",
            "Training...\n",
            "Train Epoch: 15 [5000/33600 (15%)]\tLoss: 0.036320\n",
            "Train Epoch: 15 [10000/33600 (30%)]\tLoss: 0.006057\n",
            "Train Epoch: 15 [15000/33600 (45%)]\tLoss: 0.005261\n",
            "Train Epoch: 15 [20000/33600 (60%)]\tLoss: 0.009238\n",
            "Train Epoch: 15 [25000/33600 (74%)]\tLoss: 0.004213\n",
            "Train Epoch: 15 [30000/33600 (89%)]\tLoss: 0.090898\n",
            "Validating...\n",
            "Train Loss: 0.0003, Train Acc: 99.03\n",
            "Val Loss: 0.0003, Val Acc: 99.04\n",
            "\n",
            "Trained for 15 number of epochs...\n"
          ]
        },
        {
          "output_type": "display_data",
          "data": {
            "text/plain": [
              "<Figure size 864x864 with 9 Axes>"
            ],
            "image/png": "[encoded data removed]"
          },
          "metadata": {
            "needs_background": "light"
          }
        },
        {
          "output_type": "stream",
          "name": "stdout",
          "text": [
            "None\n"
          ]
        }
      ],
      "source": [
        "\n",
        "def fit(epoch):\n",
        "    print(\"Training...\")\n",
        "    # Set model on training mode\n",
        "    model.train()\n",
        "\n",
        "    # Update lr parameter\n",
        "    exp_lr_scheduler.step()\n",
        "\n",
        "    # Initialize train loss and train accuracy\n",
        "    train_running_loss = 0.0\n",
        "    train_running_correct = 0\n",
        "    train_running_lr = optimizer.param_groups[0]['lr']\n",
        "\n",
        "    for batch_idx, (data, target) in enumerate(train_loader):\n",
        "        data, target = Variable(data.view(BATCH_SIZE, 1, 28, 28)), Variable(target)\n",
        "\n",
        "        if torch.cuda.is_available():\n",
        "            data = data.cuda()\n",
        "            target = target.cuda()\n",
        "\n",
        "        optimizer.zero_grad()\n",
        "        output = model(data)\n",
        "        loss = criterion(output, target)\n",
        "\n",
        "        train_running_loss += loss.item()\n",
        "        _, preds = torch.max(output.data, 1)\n",
        "        train_running_correct += (preds == target).sum().item()\n",
        "\n",
        "        loss.backward()\n",
        "        optimizer.step()\n",
        "\n",
        "        if (batch_idx + 1) % 50 == 0:\n",
        "            print('Train Epoch: {} [{}/{} ({:.0f}%)]\\tLoss: {:.6f}'.format(\n",
        "                epoch + 1,\n",
        "                (batch_idx + 1) * len(data),\n",
        "                len(train_loader.dataset),\n",
        "                BATCH_SIZE * (batch_idx + 1) / len(train_loader),\n",
        "                loss.cpu().detach().numpy())\n",
        "            )\n",
        "\n",
        "    train_loss = train_running_loss / len(train_loader.dataset)\n",
        "    train_accuracy = 100. * train_running_correct / len(train_loader.dataset)\n",
        "\n",
        "    return train_loss, train_accuracy, train_running_lr\n",
        "\n",
        "\n",
        "def validate(data_loader):\n",
        "    print(\"Validating...\")\n",
        "    # Set model on validating mode\n",
        "    model.eval()\n",
        "    val_preds = torch.LongTensor()\n",
        "    val_proba = torch.LongTensor()\n",
        "\n",
        "    # Initialize validation loss and validation accuracy\n",
        "    val_running_loss = 0.0\n",
        "    val_running_correct = 0\n",
        "\n",
        "    for data, target in data_loader:\n",
        "        # Regarding volatile argument, check the note below\n",
        "        data, target = Variable(data.view(BATCH_SIZE, 1, 28, 28), volatile=True), Variable(target)\n",
        "\n",
        "        if torch.cuda.is_available():\n",
        "            data = data.cuda()\n",
        "            target = target.cuda()\n",
        "\n",
        "        output = model(data)\n",
        "        loss = criterion(output, target)\n",
        "\n",
        "        val_running_loss += loss.item()\n",
        "        pred = output.data.max(1, keepdim=True)[1]\n",
        "        proba = torch.nn.functional.softmax(output.data)\n",
        "\n",
        "        val_running_correct += pred.eq(target.data.view_as(pred)).cpu().sum()\n",
        "\n",
        "        # Store val_predictions with probas for confusion matrix calculations & best errors made\n",
        "        val_preds = torch.cat((val_preds, pred))\n",
        "        val_proba = torch.cat((val_proba, proba))\n",
        "\n",
        "    val_loss = val_running_loss / len(data_loader.dataset)\n",
        "    val_accuracy = 100. * val_running_correct / len(data_loader.dataset)\n",
        "\n",
        "    return val_loss, val_accuracy, val_preds, val_proba\n",
        "\n",
        "\n",
        "train_loss, train_accuracy = [], []\n",
        "val_loss, val_accuracy = [], []\n",
        "val_preds, val_proba = [], []\n",
        "train_lr = []\n",
        "\n",
        "for epoch in range(EPOCHS):\n",
        "    print(f\"Epoch {epoch + 1} of {EPOCHS}\\n\")\n",
        "\n",
        "    train_epoch_loss, train_epoch_accuracy, train_epoch_lr = fit(epoch)\n",
        "    val_epoch_loss, val_epoch_accuracy, val_epoch_preds, val_epoch_proba = validate(val_loader)\n",
        "\n",
        "    train_loss.append(train_epoch_loss)\n",
        "    train_accuracy.append(train_epoch_accuracy)\n",
        "    train_lr.append(train_epoch_lr)\n",
        "\n",
        "    val_loss.append(val_epoch_loss)\n",
        "    val_accuracy.append(val_epoch_accuracy)\n",
        "    val_preds.append(val_epoch_preds)\n",
        "    val_proba.append(val_epoch_proba)\n",
        "\n",
        "    print(f\"Train Loss: {train_epoch_loss:.4f}, Train Acc: {train_epoch_accuracy:.2f}\")\n",
        "    print(f'Val Loss: {val_epoch_loss:.4f}, Val Acc: {val_epoch_accuracy:.2f}\\n')\n",
        "\n",
        "torch.save({'epoch': EPOCHS,\n",
        "            'model_state_dict': model.state_dict(),\n",
        "            'optimizer_state_dict': optimizer.state_dict(),\n",
        "            'loss': criterion, },\n",
        "           './model.pth')\n",
        "\n",
        "# load the model checkpoint\n",
        "checkpoint = torch.load('./model.pth')\n",
        "\n",
        "print(f\"Trained for {EPOCHS} number of epochs...\")\n",
        "\n",
        "y_pred_classes = val_preds[EPOCHS - 1].cpu().numpy().ravel()\n",
        "\n",
        "\n",
        "def display_predicted_images(graph_indexes=np.arange(9)):\n",
        "    # plot first few images\n",
        "    plt.figure(figsize=(12, 12))\n",
        "\n",
        "    for graph_index in graph_indexes:\n",
        "        index = random.randint(1, X_val.shape[0])\n",
        "\n",
        "        # Get corresponding label\n",
        "        predicted_label = y_pred_classes[index]\n",
        "        true_label = y_val[index]\n",
        "\n",
        "        # define subplot\n",
        "        plt.subplot(330 + 1 + graph_index)\n",
        "        plt.title('Predicted label: %s \\n' % predicted_label + \\\n",
        "                  'True label %s \\n' % true_label.item(),\n",
        "                  fontsize=18)\n",
        "        # plot raw pixel data\n",
        "        plt.imshow(X_val[index].view(28, 28), cmap=plt.get_cmap('Purples'))\n",
        "    plt.subplots_adjust(bottom=0.001)  # the bottom of the subplots of the figure\n",
        "    plt.subplots_adjust(top=0.99)\n",
        "\n",
        "    # show the figure\n",
        "    plt.show()\n",
        "print(display_predicted_images())"
      ]
    }
  ]
}